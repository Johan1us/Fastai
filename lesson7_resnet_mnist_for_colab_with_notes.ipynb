{
  "nbformat": 4,
  "nbformat_minor": 0,
  "metadata": {
    "colab": {
      "name": "lesson7_resnet_mnist_for_colab_with_notes.ipynb",
      "version": "0.3.2",
      "provenance": [],
      "collapsed_sections": [],
      "include_colab_link": true
    },
    "kernelspec": {
      "name": "python3",
      "display_name": "Python 3"
    },
    "accelerator": "GPU"
  },
  "cells": [
    {
      "cell_type": "markdown",
      "metadata": {
        "id": "view-in-github",
        "colab_type": "text"
      },
      "source": [
        "<a href=\"https://colab.research.google.com/github/Johan1us/Fastai/blob/master/lesson7_resnet_mnist_for_colab_with_notes.ipynb\" target=\"_parent\"><img src=\"https://colab.research.google.com/assets/colab-badge.svg\" alt=\"Open In Colab\"/></a>"
      ]
    },
    {
      "metadata": {
        "id": "szIOBJDF4Jdm",
        "colab_type": "code",
        "outputId": "c4a140b3-fdae-4187-9c2e-a9545f72e909",
        "colab": {
          "base_uri": "https://localhost:8080/",
          "height": 90
        }
      },
      "cell_type": "code",
      "source": [
        "!nvcc --version"
      ],
      "execution_count": 0,
      "outputs": [
        {
          "output_type": "stream",
          "text": [
            "nvcc: NVIDIA (R) Cuda compiler driver\n",
            "Copyright (c) 2005-2018 NVIDIA Corporation\n",
            "Built on Sat_Aug_25_21:08:01_CDT_2018\n",
            "Cuda compilation tools, release 10.0, V10.0.130\n"
          ],
          "name": "stdout"
        }
      ]
    },
    {
      "metadata": {
        "id": "-LCCEDUA7NZx",
        "colab_type": "text"
      },
      "cell_type": "markdown",
      "source": [
        "## Setting Free GPU\n",
        "\n",
        "\n",
        "Folow **Edit** > **Notebook** **settings** or Runtime>Change runtime type and select **GPU** as Hardware accelerator."
      ]
    },
    {
      "metadata": {
        "id": "8nbTEZYu0_ry",
        "colab_type": "text"
      },
      "cell_type": "markdown",
      "source": [
        "## MNIST CNN"
      ]
    },
    {
      "metadata": {
        "id": "R7Ci5zj3osLD",
        "colab_type": "text"
      },
      "cell_type": "markdown",
      "source": [
        "https://www.youtube.com/watch?v=nWpdkZE2_cc&feature=youtu.be&t=124"
      ]
    },
    {
      "metadata": {
        "id": "691PE1PRoz9e",
        "colab_type": "text"
      },
      "cell_type": "markdown",
      "source": [
        "We have lots of lesson 7 notebooks today, as you see. The first notebook we're going to look at is lesson7-resnet-mnist.ipynb. What I want to do is look at some of the stuff we started talking about last week around convolutions and convolutional neural networks, and start building on top of them to create a fairly modern deep learning architecture largely from scratch. When I say from scratch, I'm not going to re-implement things we already know how to implement, but use the pre-existing PyTorch bits of those. So we're going to use the MNIST dataset. URLs.MNIST has the whole MNIST dataset, often we've done stuff with a subset of it.\n",
        "\n"
      ]
    },
    {
      "metadata": {
        "id": "XpifqT9j0_rz",
        "colab_type": "code",
        "colab": {}
      },
      "cell_type": "code",
      "source": [
        "%reload_ext autoreload\n",
        "%autoreload 2\n",
        "%matplotlib inline"
      ],
      "execution_count": 0,
      "outputs": []
    },
    {
      "metadata": {
        "id": "xvy6tTRW0_r2",
        "colab_type": "code",
        "colab": {}
      },
      "cell_type": "code",
      "source": [
        "from fastai.vision import *"
      ],
      "execution_count": 0,
      "outputs": []
    },
    {
      "metadata": {
        "id": "ex5z1bOo0_r4",
        "colab_type": "text"
      },
      "cell_type": "markdown",
      "source": [
        "### Data"
      ]
    },
    {
      "metadata": {
        "id": "384Eoz7b0_r5",
        "colab_type": "code",
        "colab": {}
      },
      "cell_type": "code",
      "source": [
        "path = untar_data(URLs.MNIST)"
      ],
      "execution_count": 0,
      "outputs": []
    },
    {
      "metadata": {
        "id": "J27EWCz50_r7",
        "colab_type": "code",
        "outputId": "fd87dc88-c749-4c15-d042-7a4b1452ec25",
        "colab": {
          "base_uri": "https://localhost:8080/",
          "height": 54
        }
      },
      "cell_type": "code",
      "source": [
        "path.ls()"
      ],
      "execution_count": 0,
      "outputs": [
        {
          "output_type": "execute_result",
          "data": {
            "text/plain": [
              "[PosixPath('/root/.fastai/data/mnist_png/training'),\n",
              " PosixPath('/root/.fastai/data/mnist_png/testing')]"
            ]
          },
          "metadata": {
            "tags": []
          },
          "execution_count": 5
        }
      ]
    },
    {
      "metadata": {
        "id": "Q89H6ULY1S6I",
        "colab_type": "text"
      },
      "cell_type": "markdown",
      "source": [
        "In there, there's a training folder and a testing folder. As I read this in, I'm going to show some more details about pieces of the data blocks API, so that you see what's going on. Normally with the date blocks API, we've kind of said blah.blah.blah.blah.blah and done it all in one cell, but let's do it in one cell at a time."
      ]
    },
    {
      "metadata": {
        "id": "pFXb_15D0_r-",
        "colab_type": "code",
        "colab": {}
      },
      "cell_type": "code",
      "source": [
        "il = ImageList.from_folder(path, convert_mode='L')"
      ],
      "execution_count": 0,
      "outputs": []
    },
    {
      "metadata": {
        "id": "HXW5nYvv18xT",
        "colab_type": "text"
      },
      "cell_type": "markdown",
      "source": [
        "First thing you say is what kind of item list do you have. So in this case it's an item list of images. Then where are you getting the list of file names from. In this case, by looking in a folder recursively. That's where it's coming from."
      ]
    },
    {
      "metadata": {
        "id": "ppUKP7XLpCXd",
        "colab_type": "text"
      },
      "cell_type": "markdown",
      "source": [
        "You can pass in arguments that end up going to Pillow because Pillow (a.k.a. PIL) is the thing that actually opens that for us, and in this case these are black and white rather than RGB, so you have to use Pillow's convert_mode='L'. For more details refer to the python imaging library documentation to see what their convert modes are. But this one is going to be a grayscale which is what MNIST is.\n",
        "\n"
      ]
    },
    {
      "metadata": {
        "id": "Ad6jggcZ0_sA",
        "colab_type": "code",
        "outputId": "055c6081-14ef-4215-f4e9-077b4c0e4349",
        "colab": {
          "base_uri": "https://localhost:8080/",
          "height": 35
        }
      },
      "cell_type": "code",
      "source": [
        "il.items[0]"
      ],
      "execution_count": 0,
      "outputs": [
        {
          "output_type": "execute_result",
          "data": {
            "text/plain": [
              "PosixPath('/root/.fastai/data/mnist_png/training/2/55188.png')"
            ]
          },
          "metadata": {
            "tags": []
          },
          "execution_count": 7
        }
      ]
    },
    {
      "metadata": {
        "id": "wB2KGBmf1g5R",
        "colab_type": "text"
      },
      "cell_type": "markdown",
      "source": [
        "So inside an item list is an items attribute, and the items attribute is kind of thing that you gave it. It's the thing that it's going to use to create your items. So in this case, the thing you gave it really is a list of file names. That's what it got from the folder."
      ]
    },
    {
      "metadata": {
        "id": "Iufxotcl0_sD",
        "colab_type": "code",
        "colab": {}
      },
      "cell_type": "code",
      "source": [
        "defaults.cmap='binary'"
      ],
      "execution_count": 0,
      "outputs": []
    },
    {
      "metadata": {
        "id": "Bd8bbz691gDF",
        "colab_type": "text"
      },
      "cell_type": "markdown",
      "source": [
        "When you show images, normally it shows them in RGB. In this case, we want to use a binary color map. In fast.ai, you can set a default color map. For more information about cmap and color maps, refer to the matplotlib documentation. And defaults.cmap='binary' world set the default color map for fast.ai."
      ]
    },
    {
      "metadata": {
        "id": "3P4W7NI60_sF",
        "colab_type": "code",
        "outputId": "8f6632ab-2b24-4cde-8251-c0ae246ebbed",
        "colab": {
          "base_uri": "https://localhost:8080/",
          "height": 72
        }
      },
      "cell_type": "code",
      "source": [
        "il"
      ],
      "execution_count": 0,
      "outputs": [
        {
          "output_type": "execute_result",
          "data": {
            "text/plain": [
              "ImageList (70000 items)\n",
              "Image (1, 28, 28),Image (1, 28, 28),Image (1, 28, 28),Image (1, 28, 28),Image (1, 28, 28)\n",
              "Path: /root/.fastai/data/mnist_png"
            ]
          },
          "metadata": {
            "tags": []
          },
          "execution_count": 9
        }
      ]
    },
    {
      "metadata": {
        "id": "EoJNb21D3HHC",
        "colab_type": "text"
      },
      "cell_type": "markdown",
      "source": [
        "Our image item list contains 70,000 items, and it's a bunch of images that are 1 by 28 by 28. Remember that PyTorch puts channel first, so they are one channel 28x28. You might think why aren't there just 28 by 28 matrices rather than a 1 by 28 by 28 rank 3 tensor. It's just easier that way. All the Conv2d stuff and so forth works on rank 3 tensors, so you want to include that unit axis at the start, so fast.ai will do that for you even when it's reading one channel images."
      ]
    },
    {
      "metadata": {
        "id": "T0gikDA10_sK",
        "colab_type": "code",
        "outputId": "69c3e2f0-4a1f-45b0-ef4b-aae741a0e98e",
        "colab": {
          "base_uri": "https://localhost:8080/",
          "height": 213
        }
      },
      "cell_type": "code",
      "source": [
        "il[0].show()"
      ],
      "execution_count": 0,
      "outputs": [
        {
          "output_type": "display_data",
          "data": {
            "image/png": "[encoded data removed]",
            "text/plain": [
              "<Figure size 216x216 with 1 Axes>"
            ]
          },
          "metadata": {
            "tags": []
          }
        }
      ]
    },
    {
      "metadata": {
        "id": "ITmhPjjZ3OlQ",
        "colab_type": "text"
      },
      "cell_type": "markdown",
      "source": [
        "The .items attribute contains the things that's read to build the image which in this case is the file name, but if you just index into an item list directly, you'll get the actual image object. The actual image object has a show method, and so there's the image."
      ]
    },
    {
      "metadata": {
        "id": "LduuHFVV0_sM",
        "colab_type": "code",
        "colab": {}
      },
      "cell_type": "code",
      "source": [
        "sd = il.split_by_folder(train='training', valid='testing')"
      ],
      "execution_count": 0,
      "outputs": []
    },
    {
      "metadata": {
        "id": "HZS39nSe3VVM",
        "colab_type": "text"
      },
      "cell_type": "markdown",
      "source": [
        "Once you've got an image item list, you then split it into training versus validation. You nearly always want validation. If you don't, you can actually use the .no_split method to create an empty validation set. You can't skip it entirely. You have to say how to split, and one of the options is no_split."
      ]
    },
    {
      "metadata": {
        "id": "yoAtxfLA3VkU",
        "colab_type": "text"
      },
      "cell_type": "markdown",
      "source": [
        "So remember, that's always the order. First create your item list, then decide how to split. In this case, we're going to do it based on folders. The validation folder for MNIST is called testing. In fast.ai parlance, we use the same kind of parlance that Kaggle does which is the training set is what you train on, the validation set has labels and you do it for testing that your models working. The test set doesn't have labels and you use it for doing inference, submitting to a competition, or sending it off to somebody who's held out those labels for vendor testing or whatever. So just because a folder in your data set is called testing, doesn't mean it's a test set. **This one has labels, so it's a validation set.**\n",
        "\n"
      ]
    },
    {
      "metadata": {
        "id": "qsbVTId93V0u",
        "colab_type": "text"
      },
      "cell_type": "markdown",
      "source": [
        "If you want to do inference on lots of things at a time rather than one thing at a time, you want to use the test= in fast.ai to say this is stuff which has no labels and I'm just using for inference."
      ]
    },
    {
      "metadata": {
        "id": "JIKYhivL3jfe",
        "colab_type": "text"
      },
      "cell_type": "markdown",
      "source": [
        "https://www.youtube.com/watch?v=nWpdkZE2_cc&feature=youtu.be&t=414"
      ]
    },
    {
      "metadata": {
        "id": "7VydY5yk0_sN",
        "colab_type": "code",
        "outputId": "3d521b47-c193-4ad0-fdd2-3c48177bd4c6",
        "colab": {
          "base_uri": "https://localhost:8080/",
          "height": 217
        }
      },
      "cell_type": "code",
      "source": [
        "sd"
      ],
      "execution_count": 0,
      "outputs": [
        {
          "output_type": "execute_result",
          "data": {
            "text/plain": [
              "ItemLists;\n",
              "\n",
              "Train: ImageList (60000 items)\n",
              "Image (1, 28, 28),Image (1, 28, 28),Image (1, 28, 28),Image (1, 28, 28),Image (1, 28, 28)\n",
              "Path: /root/.fastai/data/mnist_png;\n",
              "\n",
              "Valid: ImageList (10000 items)\n",
              "Image (1, 28, 28),Image (1, 28, 28),Image (1, 28, 28),Image (1, 28, 28),Image (1, 28, 28)\n",
              "Path: /root/.fastai/data/mnist_png;\n",
              "\n",
              "Test: None"
            ]
          },
          "metadata": {
            "tags": []
          },
          "execution_count": 12
        }
      ]
    },
    {
      "metadata": {
        "id": "ZxrWMpgQ3sQ7",
        "colab_type": "text"
      },
      "cell_type": "markdown",
      "source": [
        "So my split data is a training set and a validation set, as you can see."
      ]
    },
    {
      "metadata": {
        "id": "fYQSEonK0_sP",
        "colab_type": "code",
        "outputId": "3df8f3d6-358f-46e3-b063-f6922dac8eb1",
        "colab": {
          "base_uri": "https://localhost:8080/",
          "height": 199
        }
      },
      "cell_type": "code",
      "source": [
        "(path/'training').ls()"
      ],
      "execution_count": 0,
      "outputs": [
        {
          "output_type": "execute_result",
          "data": {
            "text/plain": [
              "[PosixPath('/root/.fastai/data/mnist_png/training/2'),\n",
              " PosixPath('/root/.fastai/data/mnist_png/training/4'),\n",
              " PosixPath('/root/.fastai/data/mnist_png/training/0'),\n",
              " PosixPath('/root/.fastai/data/mnist_png/training/3'),\n",
              " PosixPath('/root/.fastai/data/mnist_png/training/6'),\n",
              " PosixPath('/root/.fastai/data/mnist_png/training/8'),\n",
              " PosixPath('/root/.fastai/data/mnist_png/training/7'),\n",
              " PosixPath('/root/.fastai/data/mnist_png/training/1'),\n",
              " PosixPath('/root/.fastai/data/mnist_png/training/5'),\n",
              " PosixPath('/root/.fastai/data/mnist_png/training/9')]"
            ]
          },
          "metadata": {
            "tags": []
          },
          "execution_count": 13
        }
      ]
    },
    {
      "metadata": {
        "id": "a1o2vqrs9tp6",
        "colab_type": "text"
      },
      "cell_type": "markdown",
      "source": [
        "Inside the training set, there's a folder for each class.\n",
        "\n"
      ]
    },
    {
      "metadata": {
        "id": "Z0L0hG560_sR",
        "colab_type": "code",
        "colab": {}
      },
      "cell_type": "code",
      "source": [
        "ll = sd.label_from_folder()"
      ],
      "execution_count": 0,
      "outputs": []
    },
    {
      "metadata": {
        "id": "N7eC_kOL-LVR",
        "colab_type": "text"
      },
      "cell_type": "markdown",
      "source": [
        "Now we can take that split data and say label_from_folder.\n",
        "\n",
        "So first you create the item list, then you split it, then you label it."
      ]
    },
    {
      "metadata": {
        "id": "EhrBLqTD0_sT",
        "colab_type": "code",
        "outputId": "3f8ae6f6-0056-47dd-cc50-d0b8448e92db",
        "colab": {
          "base_uri": "https://localhost:8080/",
          "height": 326
        }
      },
      "cell_type": "code",
      "source": [
        "ll"
      ],
      "execution_count": 0,
      "outputs": [
        {
          "output_type": "execute_result",
          "data": {
            "text/plain": [
              "LabelLists;\n",
              "\n",
              "Train: LabelList (60000 items)\n",
              "x: ImageList\n",
              "Image (1, 28, 28),Image (1, 28, 28),Image (1, 28, 28),Image (1, 28, 28),Image (1, 28, 28)\n",
              "y: CategoryList\n",
              "2,2,2,2,2\n",
              "Path: /root/.fastai/data/mnist_png;\n",
              "\n",
              "Valid: LabelList (10000 items)\n",
              "x: ImageList\n",
              "Image (1, 28, 28),Image (1, 28, 28),Image (1, 28, 28),Image (1, 28, 28),Image (1, 28, 28)\n",
              "y: CategoryList\n",
              "2,2,2,2,2\n",
              "Path: /root/.fastai/data/mnist_png;\n",
              "\n",
              "Test: None"
            ]
          },
          "metadata": {
            "tags": []
          },
          "execution_count": 15
        }
      ]
    },
    {
      "metadata": {
        "id": "zaeZoF4k-YoE",
        "colab_type": "text"
      },
      "cell_type": "markdown",
      "source": [
        "You can see now we have an x and the y, and the y are category objects. Category object is just a class basically."
      ]
    },
    {
      "metadata": {
        "id": "rvvdkozh0_sW",
        "colab_type": "code",
        "colab": {}
      },
      "cell_type": "code",
      "source": [
        "x,y = ll.train[0]"
      ],
      "execution_count": 0,
      "outputs": []
    },
    {
      "metadata": {
        "id": "nlJ10dEO-cR9",
        "colab_type": "text"
      },
      "cell_type": "markdown",
      "source": [
        "If you index into a label list such as ll.train as a label list, you will get back an independent variable and independent variable (i.e. x and y). In this case, the x will be an image object which I can show, and the y will be a category object which I can print:"
      ]
    },
    {
      "metadata": {
        "id": "pbHXwYZ20_sY",
        "colab_type": "code",
        "outputId": "c8d1c6a4-8df0-493c-8c92-cd79aabcb4c8",
        "colab": {
          "base_uri": "https://localhost:8080/",
          "height": 231
        }
      },
      "cell_type": "code",
      "source": [
        "x.show()\n",
        "print(y,x.shape)"
      ],
      "execution_count": 0,
      "outputs": [
        {
          "output_type": "stream",
          "text": [
            "2 torch.Size([1, 28, 28])\n"
          ],
          "name": "stdout"
        },
        {
          "output_type": "display_data",
          "data": {
            "image/png": "[encoded data removed]",
            "text/plain": [
              "<Figure size 216x216 with 1 Axes>"
            ]
          },
          "metadata": {
            "tags": []
          }
        }
      ]
    },
    {
      "metadata": {
        "id": "biWv34wu-mDL",
        "colab_type": "text"
      },
      "cell_type": "markdown",
      "source": [
        "That's the number 8 category, and there's the 8."
      ]
    },
    {
      "metadata": {
        "id": "dJ1oIaWp-rqY",
        "colab_type": "text"
      },
      "cell_type": "markdown",
      "source": [
        "https://www.youtube.com/watch?v=nWpdkZE2_cc&feature=youtu.be&t=476"
      ]
    },
    {
      "metadata": {
        "id": "HEJONHLj0_sa",
        "colab_type": "code",
        "colab": {}
      },
      "cell_type": "code",
      "source": [
        "tfms = ([*rand_pad(padding=3, size=28, mode='zeros')], [])"
      ],
      "execution_count": 0,
      "outputs": []
    },
    {
      "metadata": {
        "id": "9jwaBZ1yCO_W",
        "colab_type": "text"
      },
      "cell_type": "markdown",
      "source": [
        "Next thing we can do is to add transforms. In this case, we're not going to use the normal get_transforms function because we're doing digit recognition and digit recognition, you wouldn't want to flip it left right. That would change the meaning of it. You wouldn't want to rotate it too much, that would change the meaning of it. Also because these images are so small, doing zooms and stuff is going to make them so fuzzy as to be unreadable. So normally, for small images of digits like this, you just add a bit of random padding. So I'll use the random padding function which actually returns two transforms; the bit that does the padding and the bit that does the random crop. So you have to use star(*) to say put both these transforms in this list."
      ]
    },
    {
      "metadata": {
        "id": "OSqityvn0_sc",
        "colab_type": "code",
        "colab": {}
      },
      "cell_type": "code",
      "source": [
        "ll = ll.transform(tfms)"
      ],
      "execution_count": 0,
      "outputs": []
    },
    {
      "metadata": {
        "id": "vVDP9zB1CbTF",
        "colab_type": "text"
      },
      "cell_type": "markdown",
      "source": [
        "Now we call transform. This empty array here is referring to the validation set transforms:\n",
        "\n"
      ]
    },
    {
      "metadata": {
        "id": "0uLvd9meCzqo",
        "colab_type": "text"
      },
      "cell_type": "markdown",
      "source": [
        "![alt text](https://github.com/hiromis/notes/raw/master/lesson7/3.png)"
      ]
    },
    {
      "metadata": {
        "id": "0RSSiSAaDe4U",
        "colab_type": "text"
      },
      "cell_type": "markdown",
      "source": [
        "So no transforms with the validation set.\n",
        "\n",
        "Now we've got a transformed labeled list, we can pick a batch size and choose data bunch:"
      ]
    },
    {
      "metadata": {
        "id": "6fOK8tPQ0_sd",
        "colab_type": "code",
        "colab": {}
      },
      "cell_type": "code",
      "source": [
        "bs = 128"
      ],
      "execution_count": 0,
      "outputs": []
    },
    {
      "metadata": {
        "id": "nbxAXJWS0_sf",
        "colab_type": "code",
        "colab": {}
      },
      "cell_type": "code",
      "source": [
        "# not using imagenet_stats because not using pretrained model\n",
        "data = ll.databunch(bs=bs).normalize()"
      ],
      "execution_count": 0,
      "outputs": []
    },
    {
      "metadata": {
        "id": "0Xe_6eg7DmHh",
        "colab_type": "text"
      },
      "cell_type": "markdown",
      "source": [
        "We can choose normalize. In this case, we're not using a pre-trained model, so there's no reason to use ImageNet stats here. So if you call normalize like this without passing in stats, it will grab a batch of data at random and use that to decide what normalization stats to use. That's a good idea if you're not using a pre-trained model."
      ]
    },
    {
      "metadata": {
        "id": "A4QfP_Ox0_sg",
        "colab_type": "code",
        "colab": {}
      },
      "cell_type": "code",
      "source": [
        "x,y = data.train_ds[0]"
      ],
      "execution_count": 0,
      "outputs": []
    },
    {
      "metadata": {
        "id": "OFAtoDt90_si",
        "colab_type": "code",
        "outputId": "df41b8d8-b9dc-4959-e323-61a0b437151f",
        "colab": {
          "base_uri": "https://localhost:8080/",
          "height": 231
        }
      },
      "cell_type": "code",
      "source": [
        "x.show()\n",
        "print(y)"
      ],
      "execution_count": 0,
      "outputs": [
        {
          "output_type": "stream",
          "text": [
            "2\n"
          ],
          "name": "stdout"
        },
        {
          "output_type": "display_data",
          "data": {
            "image/png": "[encoded data removed]",
            "text/plain": [
              "<Figure size 216x216 with 1 Axes>"
            ]
          },
          "metadata": {
            "tags": []
          }
        }
      ]
    },
    {
      "metadata": {
        "id": "cRHeVmWtDsb7",
        "colab_type": "text"
      },
      "cell_type": "markdown",
      "source": [
        "Okay, so we've got a data bunch and in that data bunch is a data set which we've seen already. But what is interesting is that the training data set now has data augmentation because we've got transforms. plot_multi is a fast.ai function that will plot the result of calling some function for each of this row by column grid. So in this case, my function is just grab the first image from the training set and because each time you grab something from the training set, it's going to load it from disk and it's going to transform it on the fly. People sometimes ask how many transformed versions of the image do you create and the answer is infinite. Each time we grab one thing from the data set, we do a random transform on the fly, so potentially every one will look a little bit different. So you can see here, if we plot the result of that lots of times, we get 8's in slightly different positions because we did random padding."
      ]
    },
    {
      "metadata": {
        "id": "lgMTffuJ0_sl",
        "colab_type": "code",
        "outputId": "cc4789e1-b930-41ec-ecfc-941afb14e5a3",
        "colab": {
          "base_uri": "https://localhost:8080/",
          "height": 485
        }
      },
      "cell_type": "code",
      "source": [
        "def _plot(i,j,ax): data.train_ds[0][0].show(ax, cmap='gray')\n",
        "plot_multi(_plot, 3, 3, figsize=(8,8))"
      ],
      "execution_count": 0,
      "outputs": [
        {
          "output_type": "display_data",
          "data": {
            "image/png": "[encoded data removed]",
            "text/plain": [
              "<Figure size 576x576 with 9 Axes>"
            ]
          },
          "metadata": {
            "tags": []
          }
        }
      ]
    },
    {
      "metadata": {
        "id": "ydFq--IqD2zc",
        "colab_type": "text"
      },
      "cell_type": "markdown",
      "source": [
        "https://www.youtube.com/watch?v=nWpdkZE2_cc&feature=youtu.be&t=627"
      ]
    },
    {
      "metadata": {
        "id": "70RW6JkvD7Os",
        "colab_type": "text"
      },
      "cell_type": "markdown",
      "source": [
        "You can always grab a batch of data then from the data bunch, because remember, data bunch has data loaders, and data loaders are things you grab a batch at a time. So you can then grab a X batch and a Y batch, look at their shape - batch size by channel by row by column:"
      ]
    },
    {
      "metadata": {
        "id": "7-M112pG0_sn",
        "colab_type": "code",
        "outputId": "0a3e9884-5a9e-4b2b-e535-467af574da46",
        "colab": {
          "base_uri": "https://localhost:8080/",
          "height": 35
        }
      },
      "cell_type": "code",
      "source": [
        "xb,yb = data.one_batch()\n",
        "xb.shape,yb.shape"
      ],
      "execution_count": 0,
      "outputs": [
        {
          "output_type": "execute_result",
          "data": {
            "text/plain": [
              "(torch.Size([128, 1, 28, 28]), torch.Size([128]))"
            ]
          },
          "metadata": {
            "tags": []
          },
          "execution_count": 25
        }
      ]
    },
    {
      "metadata": {
        "id": "cPMw3lK9EBWe",
        "colab_type": "text"
      },
      "cell_type": "markdown",
      "source": [
        "All fast.ai data bunches have a show_batch which will show you what's in it in some sensible way:"
      ]
    },
    {
      "metadata": {
        "id": "bepRoSuD0_sp",
        "colab_type": "code",
        "outputId": "c2241a2d-a6a6-4354-97b4-cd268094a140",
        "colab": {
          "base_uri": "https://localhost:8080/",
          "height": 369
        }
      },
      "cell_type": "code",
      "source": [
        "data.show_batch(rows=3, figsize=(5,5))"
      ],
      "execution_count": 0,
      "outputs": [
        {
          "output_type": "display_data",
          "data": {
            "image/png": "[encoded data removed]",
            "text/plain": [
              "<Figure size 360x360 with 9 Axes>"
            ]
          },
          "metadata": {
            "tags": []
          }
        }
      ]
    },
    {
      "metadata": {
        "id": "aWObcmukEHbt",
        "colab_type": "text"
      },
      "cell_type": "markdown",
      "source": [
        "That was a quick walk through with a data block API stuff to grab our data."
      ]
    },
    {
      "metadata": {
        "id": "Z7lHLoqJ0_sr",
        "colab_type": "text"
      },
      "cell_type": "markdown",
      "source": [
        "### Basic CNN with batchnorm"
      ]
    },
    {
      "metadata": {
        "id": "vZnDuh5XEM3i",
        "colab_type": "text"
      },
      "cell_type": "markdown",
      "source": [
        "https://www.youtube.com/watch?v=nWpdkZE2_cc&feature=youtu.be&t=661"
      ]
    },
    {
      "metadata": {
        "id": "UcyqOk6EFwUa",
        "colab_type": "text"
      },
      "cell_type": "markdown",
      "source": [
        "Let's start out creating a simple CNN. The input is 28 by 28. I like to define when I'm creating architectures a function which kind of does the things that I do again and again and again. I don't want to call it with the same arguments because I'll forget or I make a mistake. In this case, all of my convolution is going to be kernel size 3 stride 2 padding 1. So let's just create a simple function to do a conv with those parameters:"
      ]
    },
    {
      "metadata": {
        "id": "Pq415cfj0_sr",
        "colab_type": "code",
        "colab": {}
      },
      "cell_type": "code",
      "source": [
        "def conv(ni,nf): return nn.Conv2d(ni, nf, kernel_size=3, stride=2, padding=1)"
      ],
      "execution_count": 0,
      "outputs": []
    },
    {
      "metadata": {
        "id": "imXNt8CJF1Vc",
        "colab_type": "text"
      },
      "cell_type": "markdown",
      "source": [
        "Each time you have a convolution, it's skipping over one pixel so it's jumping two steps each time. That means that each time we have a convolution, it's going to halve the grid size. I've put a comment here showing what the new grid size is after each one."
      ]
    },
    {
      "metadata": {
        "id": "6pvqCdL30_st",
        "colab_type": "code",
        "colab": {}
      },
      "cell_type": "code",
      "source": [
        "model = nn.Sequential(\n",
        "    conv(1, 8), # 14\n",
        "    nn.BatchNorm2d(8),\n",
        "    nn.ReLU(),\n",
        "    conv(8, 16), # 7\n",
        "    nn.BatchNorm2d(16),\n",
        "    nn.ReLU(),\n",
        "    conv(16, 32), # 4\n",
        "    nn.BatchNorm2d(32),\n",
        "    nn.ReLU(),\n",
        "    conv(32, 16), # 2\n",
        "    nn.BatchNorm2d(16),\n",
        "    nn.ReLU(),\n",
        "    conv(16, 10), # 1\n",
        "    nn.BatchNorm2d(10),\n",
        "    Flatten()     # remove (1,1) grid\n",
        ")"
      ],
      "execution_count": 0,
      "outputs": []
    },
    {
      "metadata": {
        "id": "PmydKxJnF7t7",
        "colab_type": "text"
      },
      "cell_type": "markdown",
      "source": [
        "After the first convolution, we have one channel coming in because it's a grayscale image with one channel, and then how many channels coming out? Whatever you like. So remember, you always get to pick how many filters you create regardless of whether it's a fully connected layer in which case it's just the width of the matrix you're multiplying by, or in this case with the 2D conv, it's just how many filters do you want. So I picked 8 and so after this, it's stride 2 to so the 28 by 28 image is now a 14 by 14 feature map with 8 channels. Specifically therefore, it's an 8 by 14 by 14 tensor of activations.\n",
        "\n",
        "Then we'll do a batch norm, then we'll do ReLU. The number of input filters to the next conv has to equal the number of output filters from the previous conv, and we can just keep increasing the number of channels because we're doing stride 2, it's got to keep decreasing the grid size. Notice here, it goes from 7 to 4 because if you're doing a stride 2 conv over 7, it's going to be math.ceiling of 7/2.\n",
        "\n",
        "Batch norm, ReLU, conv. We are now down to 2 by 2. Batch norm, ReLU, conv, we're now down to 1 by 1. After this, we have a feature map of 10 by 1 by 1. Does that make sense? We've got a grid size of one now. It's not a vector of length 10, it's a rank 3 tensor of 10 by 1 by 1. Our loss functions expect (generally) a vector not a rank 3 tensor, so you can chuck flatten at the end, and flatten just means remove any unit axes. So that will make it now just a vector of length 10 which is what we always expect.\n",
        "\n",
        "That's how we can create a CNN. Then we can return that into a learner by passing in the data and the model and the loss function and optionally some metrics. We're going to use cross-entropy as usual. We can then call learn.summary() and confirm."
      ]
    },
    {
      "metadata": {
        "id": "DACFZH1s0_su",
        "colab_type": "code",
        "colab": {}
      },
      "cell_type": "code",
      "source": [
        "learn = Learner(data, model, loss_func = nn.CrossEntropyLoss(), metrics=accuracy)"
      ],
      "execution_count": 0,
      "outputs": []
    },
    {
      "metadata": {
        "id": "iOI2F00E0_sv",
        "colab_type": "code",
        "outputId": "c4e956c9-839c-46cb-bde2-b8893d9d627c",
        "colab": {
          "base_uri": "https://localhost:8080/",
          "height": 708
        }
      },
      "cell_type": "code",
      "source": [
        "print(learn.summary())"
      ],
      "execution_count": 0,
      "outputs": [
        {
          "output_type": "stream",
          "text": [
            "======================================================================\n",
            "Layer (type)         Output Shape         Param #    Trainable \n",
            "======================================================================\n",
            "Conv2d               [1, 8, 14, 14]       80         True      \n",
            "______________________________________________________________________\n",
            "BatchNorm2d          [1, 8, 14, 14]       16         True      \n",
            "______________________________________________________________________\n",
            "ReLU                 [1, 8, 14, 14]       0          False     \n",
            "______________________________________________________________________\n",
            "Conv2d               [1, 16, 7, 7]        1,168      True      \n",
            "______________________________________________________________________\n",
            "BatchNorm2d          [1, 16, 7, 7]        32         True      \n",
            "______________________________________________________________________\n",
            "ReLU                 [1, 16, 7, 7]        0          False     \n",
            "______________________________________________________________________\n",
            "Conv2d               [1, 32, 4, 4]        4,640      True      \n",
            "______________________________________________________________________\n",
            "BatchNorm2d          [1, 32, 4, 4]        64         True      \n",
            "______________________________________________________________________\n",
            "ReLU                 [1, 32, 4, 4]        0          False     \n",
            "______________________________________________________________________\n",
            "Conv2d               [1, 16, 2, 2]        4,624      True      \n",
            "______________________________________________________________________\n",
            "BatchNorm2d          [1, 16, 2, 2]        32         True      \n",
            "______________________________________________________________________\n",
            "ReLU                 [1, 16, 2, 2]        0          False     \n",
            "______________________________________________________________________\n",
            "Conv2d               [1, 10, 1, 1]        1,450      True      \n",
            "______________________________________________________________________\n",
            "BatchNorm2d          [1, 10, 1, 1]        20         True      \n",
            "______________________________________________________________________\n",
            "Flatten              [1, 10]              0          False     \n",
            "______________________________________________________________________\n",
            "\n",
            "Total params: 12,126\n",
            "Total trainable params: 12,126\n",
            "Total non-trainable params: 0\n",
            "\n"
          ],
          "name": "stdout"
        }
      ]
    },
    {
      "metadata": {
        "id": "dbkZ2zicGBk3",
        "colab_type": "text"
      },
      "cell_type": "markdown",
      "source": [
        "After that first conv, we're down to 14 by 14 and after the second conv 7 by 7, 4 by 4, 2 by 2, 1 by 1. The flatten comes out (calling it a Lambda), that as you can see it gets rid of the 1 by 1 and it's now just a length 10 vector for each item in the batch so 128 by 10 matrix in the whole mini batch.\n",
        "\n",
        "Just to confirm that this is working okay, we can grab that mini batch of X that we created earlier (there's a mini batch of X), pop it onto the GPU, and call the model directly. Any PyTorch module, we can pretend it's a function and that gives us back as we hoped a 128 by 10 result."
      ]
    },
    {
      "metadata": {
        "id": "WurV2BGS0_sy",
        "colab_type": "code",
        "colab": {}
      },
      "cell_type": "code",
      "source": [
        "xb = xb.cuda()"
      ],
      "execution_count": 0,
      "outputs": []
    },
    {
      "metadata": {
        "id": "POYVz90M0_s1",
        "colab_type": "code",
        "outputId": "7a6b5865-d591-4865-d1d5-d9eb2dbc60cc",
        "colab": {
          "base_uri": "https://localhost:8080/",
          "height": 35
        }
      },
      "cell_type": "code",
      "source": [
        "model(xb).shape"
      ],
      "execution_count": 0,
      "outputs": [
        {
          "output_type": "execute_result",
          "data": {
            "text/plain": [
              "torch.Size([128, 10])"
            ]
          },
          "metadata": {
            "tags": []
          },
          "execution_count": 32
        }
      ]
    },
    {
      "metadata": {
        "id": "wRdFrlCyGXiv",
        "colab_type": "text"
      },
      "cell_type": "markdown",
      "source": [
        "That's how you can directly get some predictions out. LR find, fit one cycle, and bang. We already have a 98.6% accurate conv net."
      ]
    },
    {
      "metadata": {
        "id": "vJ0qKoGf0_s3",
        "colab_type": "code",
        "outputId": "61423071-37c4-412c-e342-a5ad34533810",
        "colab": {
          "base_uri": "https://localhost:8080/",
          "height": 35
        }
      },
      "cell_type": "code",
      "source": [
        "learn.lr_find(end_lr=100)"
      ],
      "execution_count": 0,
      "outputs": [
        {
          "output_type": "display_data",
          "data": {
            "text/html": [
              ""
            ],
            "text/plain": [
              "<IPython.core.display.HTML object>"
            ]
          },
          "metadata": {
            "tags": []
          }
        },
        {
          "output_type": "stream",
          "text": [
            "LR Finder is complete, type {learner_name}.recorder.plot() to see the graph.\n"
          ],
          "name": "stdout"
        }
      ]
    },
    {
      "metadata": {
        "id": "TNkmynmV0_s4",
        "colab_type": "code",
        "outputId": "9a75ffab-5f1d-4a93-f979-622a90e61777",
        "colab": {
          "base_uri": "https://localhost:8080/",
          "height": 279
        }
      },
      "cell_type": "code",
      "source": [
        "learn.recorder.plot()"
      ],
      "execution_count": 0,
      "outputs": [
        {
          "output_type": "display_data",
          "data": {
            "image/png": "[encoded data removed]",
            "text/plain": [
              "<Figure size 432x288 with 1 Axes>"
            ]
          },
          "metadata": {
            "tags": []
          }
        }
      ]
    },
    {
      "metadata": {
        "id": "tFI0Ch3z0_s6",
        "colab_type": "code",
        "outputId": "0f6f550f-5e59-4e24-ced1-aff12e0b5978",
        "colab": {
          "base_uri": "https://localhost:8080/",
          "height": 161
        }
      },
      "cell_type": "code",
      "source": [
        "learn.fit_one_cycle(3, max_lr=0.1)"
      ],
      "execution_count": 0,
      "outputs": [
        {
          "output_type": "display_data",
          "data": {
            "text/html": [
              "Total time: 01:50 <p><table border=\"1\" class=\"dataframe\">\n",
              "  <thead>\n",
              "    <tr style=\"text-align: left;\">\n",
              "      <th>epoch</th>\n",
              "      <th>train_loss</th>\n",
              "      <th>valid_loss</th>\n",
              "      <th>accuracy</th>\n",
              "      <th>time</th>\n",
              "    </tr>\n",
              "  </thead>\n",
              "  <tbody>\n",
              "    <tr>\n",
              "      <td>1</td>\n",
              "      <td>0.231475</td>\n",
              "      <td>0.161894</td>\n",
              "      <td>0.948900</td>\n",
              "      <td>00:36</td>\n",
              "    </tr>\n",
              "    <tr>\n",
              "      <td>2</td>\n",
              "      <td>0.141504</td>\n",
              "      <td>0.098567</td>\n",
              "      <td>0.968100</td>\n",
              "      <td>00:36</td>\n",
              "    </tr>\n",
              "    <tr>\n",
              "      <td>3</td>\n",
              "      <td>0.080433</td>\n",
              "      <td>0.044130</td>\n",
              "      <td>0.985400</td>\n",
              "      <td>00:36</td>\n",
              "    </tr>\n",
              "  </tbody>\n",
              "</table>"
            ],
            "text/plain": [
              "<IPython.core.display.HTML object>"
            ]
          },
          "metadata": {
            "tags": []
          }
        }
      ]
    },
    {
      "metadata": {
        "id": "8QrtC5-zGqOn",
        "colab_type": "text"
      },
      "cell_type": "markdown",
      "source": [
        "This is trained from scratch, of course, it's not pre-trained. We've literally created our own architecture. It's about the simplest possible architecture you can imagine. 18 seconds to train, so that's how easy it is to create a pretty accurate digit detector."
      ]
    },
    {
      "metadata": {
        "id": "GUkitqf80_s8",
        "colab_type": "text"
      },
      "cell_type": "markdown",
      "source": [
        "### Refactor"
      ]
    },
    {
      "metadata": {
        "id": "kCkkhfnaqKWq",
        "colab_type": "text"
      },
      "cell_type": "markdown",
      "source": [
        "https://www.youtube.com/watch?v=nWpdkZE2_cc&feature=youtu.be&t=942"
      ]
    },
    {
      "metadata": {
        "id": "USAzZwghqOAQ",
        "colab_type": "text"
      },
      "cell_type": "markdown",
      "source": [
        "Let's refactor that a little. Rather than saying conv, batch norm, ReLU all the time, fast.ai already has something called conv_layer which lets you create conv, batch norm, ReLU combinations. It has various other options to do other tweaks to it, but the basic version is just exactly what I just showed you. So we can refactor that like so:"
      ]
    },
    {
      "metadata": {
        "id": "pPv5RN-O0_s8",
        "colab_type": "code",
        "colab": {}
      },
      "cell_type": "code",
      "source": [
        "def conv2(ni,nf): return conv_layer(ni,nf,stride=2)"
      ],
      "execution_count": 0,
      "outputs": []
    },
    {
      "metadata": {
        "id": "3tSiDIsl0_s-",
        "colab_type": "code",
        "colab": {}
      },
      "cell_type": "code",
      "source": [
        "model = nn.Sequential(\n",
        "    conv2(1, 8),   # 14\n",
        "    conv2(8, 16),  # 7\n",
        "    conv2(16, 32), # 4\n",
        "    conv2(32, 16), # 2\n",
        "    conv2(16, 10), # 1\n",
        "    Flatten()      # remove (1,1) grid\n",
        ")"
      ],
      "execution_count": 0,
      "outputs": []
    },
    {
      "metadata": {
        "id": "iAzoND-zqRm9",
        "colab_type": "text"
      },
      "cell_type": "markdown",
      "source": [
        "That's exactly the same neural net.\n",
        "\n"
      ]
    },
    {
      "metadata": {
        "id": "dmpM8bFQ0_tB",
        "colab_type": "code",
        "colab": {}
      },
      "cell_type": "code",
      "source": [
        "learn = Learner(data, model, loss_func = nn.CrossEntropyLoss(), metrics=accuracy)"
      ],
      "execution_count": 0,
      "outputs": []
    },
    {
      "metadata": {
        "id": "7pHO6PDs0_tH",
        "colab_type": "code",
        "outputId": "d633c1fa-72f1-4d84-e49a-2cbea99d30e9",
        "colab": {
          "base_uri": "https://localhost:8080/",
          "height": 371
        }
      },
      "cell_type": "code",
      "source": [
        "learn.fit_one_cycle(10, max_lr=0.1)"
      ],
      "execution_count": 0,
      "outputs": [
        {
          "output_type": "display_data",
          "data": {
            "text/html": [
              "Total time: 06:02 <p><table border=\"1\" class=\"dataframe\">\n",
              "  <thead>\n",
              "    <tr style=\"text-align: left;\">\n",
              "      <th>epoch</th>\n",
              "      <th>train_loss</th>\n",
              "      <th>valid_loss</th>\n",
              "      <th>accuracy</th>\n",
              "      <th>time</th>\n",
              "    </tr>\n",
              "  </thead>\n",
              "  <tbody>\n",
              "    <tr>\n",
              "      <td>1</td>\n",
              "      <td>0.231231</td>\n",
              "      <td>0.123974</td>\n",
              "      <td>0.962500</td>\n",
              "      <td>00:35</td>\n",
              "    </tr>\n",
              "    <tr>\n",
              "      <td>2</td>\n",
              "      <td>0.194657</td>\n",
              "      <td>0.394254</td>\n",
              "      <td>0.886200</td>\n",
              "      <td>00:36</td>\n",
              "    </tr>\n",
              "    <tr>\n",
              "      <td>3</td>\n",
              "      <td>0.158764</td>\n",
              "      <td>0.101962</td>\n",
              "      <td>0.965800</td>\n",
              "      <td>00:36</td>\n",
              "    </tr>\n",
              "    <tr>\n",
              "      <td>4</td>\n",
              "      <td>0.130936</td>\n",
              "      <td>0.081883</td>\n",
              "      <td>0.974600</td>\n",
              "      <td>00:36</td>\n",
              "    </tr>\n",
              "    <tr>\n",
              "      <td>5</td>\n",
              "      <td>0.122506</td>\n",
              "      <td>0.075669</td>\n",
              "      <td>0.977200</td>\n",
              "      <td>00:36</td>\n",
              "    </tr>\n",
              "    <tr>\n",
              "      <td>6</td>\n",
              "      <td>0.104712</td>\n",
              "      <td>0.079616</td>\n",
              "      <td>0.975400</td>\n",
              "      <td>00:36</td>\n",
              "    </tr>\n",
              "    <tr>\n",
              "      <td>7</td>\n",
              "      <td>0.075174</td>\n",
              "      <td>0.064713</td>\n",
              "      <td>0.980900</td>\n",
              "      <td>00:36</td>\n",
              "    </tr>\n",
              "    <tr>\n",
              "      <td>8</td>\n",
              "      <td>0.065458</td>\n",
              "      <td>0.034148</td>\n",
              "      <td>0.988800</td>\n",
              "      <td>00:36</td>\n",
              "    </tr>\n",
              "    <tr>\n",
              "      <td>9</td>\n",
              "      <td>0.046812</td>\n",
              "      <td>0.029893</td>\n",
              "      <td>0.989800</td>\n",
              "      <td>00:36</td>\n",
              "    </tr>\n",
              "    <tr>\n",
              "      <td>10</td>\n",
              "      <td>0.040806</td>\n",
              "      <td>0.027887</td>\n",
              "      <td>0.990800</td>\n",
              "      <td>00:35</td>\n",
              "    </tr>\n",
              "  </tbody>\n",
              "</table>"
            ],
            "text/plain": [
              "<IPython.core.display.HTML object>"
            ]
          },
          "metadata": {
            "tags": []
          }
        }
      ]
    },
    {
      "metadata": {
        "id": "MJmqSaxWqaMQ",
        "colab_type": "text"
      },
      "cell_type": "markdown",
      "source": [
        "Let's just try a little bit longer and it's actually 99.1% accurate if we train it for all of a minute, so that's cool."
      ]
    },
    {
      "metadata": {
        "id": "E-9K-2EL0_tI",
        "colab_type": "text"
      },
      "cell_type": "markdown",
      "source": [
        "### Resnet-ish"
      ]
    },
    {
      "metadata": {
        "id": "PvJ6QRtoqelN",
        "colab_type": "text"
      },
      "cell_type": "markdown",
      "source": [
        "https://www.youtube.com/watch?v=nWpdkZE2_cc&feature=youtu.be&t=984"
      ]
    },
    {
      "metadata": {
        "id": "Wk_51mXGqnld",
        "colab_type": "text"
      },
      "cell_type": "markdown",
      "source": [
        "How can we improve this? What we really want to do is create a deeper network, and so a very easy way to create a deeper network would be after every stride 2 conv, add a stride 1 conv. Because the stride 1 conv doesn't change the feature map size at all, so you can add as many as you like. But there's a problem. The problem was pointed out in this paper, very very very influential paper, called [Deep Residual Learning for Image Recognition](https://arxiv.org/abs/1512.03385) by Kaiming He and colleagues at (then) Microsoft Research.\n",
        "\n",
        "They did something interesting. They said let's look at the training error. So forget generalization even, let's just look at the training error of a network trained on CIFAR-10 and let's try one network of 20 layers just basic 3x3 convs - basically the same network I just showed you, but without batch norm. They trained a 20 layer one and a 56 layer one on the training set.\n",
        "\n",
        "The 56 layer one has a lot more parameters. It's got a lot more of these stride 1 convs in the middle. So the one with more parameters should seriously over fit, right? So you would expect the 56 layer one to zip down to zero-ish training error pretty quickly and that is not what happens. It is worse than the shallower network."
      ]
    },
    {
      "metadata": {
        "id": "jkxDAiaQrW-s",
        "colab_type": "text"
      },
      "cell_type": "markdown",
      "source": [
        "![alt text](https://raw.githubusercontent.com/hiromis/notes/master/lesson7/7.png)"
      ]
    },
    {
      "metadata": {
        "id": "fFgELWtFsCp8",
        "colab_type": "text"
      },
      "cell_type": "markdown",
      "source": [
        "When you see something weird happen, really good researchers don't go \"oh no, it's not working\" they go \"that's interesting.\" So Kaiming He said \"that's interesting. What's going on?\" and he said \"I don't know, but what I do know is this - I could take this 56 layer network and make a new version of it which is identical but has to be at least as good as the 20 layer network and here's how:"
      ]
    },
    {
      "metadata": {
        "id": "ds_U1hZRsGra",
        "colab_type": "text"
      },
      "cell_type": "markdown",
      "source": [
        "![alt text](https://raw.githubusercontent.com/hiromis/notes/master/lesson7/8.png)"
      ]
    },
    {
      "metadata": {
        "id": "C7Z1HxSPsZgq",
        "colab_type": "text"
      },
      "cell_type": "markdown",
      "source": [
        "Every to convolutions, I'm going to add together the input to those two convolutions with the result of those two convolutions.\" In other words, he's saying instead of saying:"
      ]
    },
    {
      "metadata": {
        "id": "L69MefwFsa3T",
        "colab_type": "text"
      },
      "cell_type": "markdown",
      "source": [
        "![alt text](https://camo.githubusercontent.com/5175bb7730b5c1eb253e81322a33837fe5837396/68747470733a2f2f6c617465782e636f6465636f67732e636f6d2f6769662e6c617465783f4f75747075743d436f6e763228436f6e763128782929)"
      ]
    },
    {
      "metadata": {
        "id": "w8n8wt7kshzf",
        "colab_type": "text"
      },
      "cell_type": "markdown",
      "source": [
        "Instead, he's saying:"
      ]
    },
    {
      "metadata": {
        "id": "Eua9_RNRsjLz",
        "colab_type": "text"
      },
      "cell_type": "markdown",
      "source": [
        "![alt text](https://camo.githubusercontent.com/125e2b1bcdb0c9fe7138db6882b92f5dff1808dc/68747470733a2f2f6c617465782e636f6465636f67732e636f6d2f6769662e6c617465783f4f75747075743d782b436f6e763228436f6e763128782929)"
      ]
    },
    {
      "metadata": {
        "id": "Dm_Jpmd2uCEI",
        "colab_type": "text"
      },
      "cell_type": "markdown",
      "source": [
        "His theory was 56 layers worth of convolutions in that has to be at least good as the 20 layer version because it could always just set conv2 and conv1 to a bunch of 0 weights for everything except for the first 20 layers because the X (i.e. the input) could just go straight through. So this thing here is (as you see) called an identity connection. It's the identity function - nothing happens at all. It's also known as a skip connection.\n",
        "\n",
        "So that was the theory. That's what the paper describes as the intuition behind this is what would happen if we created something which has to train at least as well as a 20 layer neural network because it kind of contains that 20 layer neural network. There's literally a path you can just skip over all the convolutions. So what happens?\n",
        "\n",
        "What happened was he won ImageNet that year. He easily won ImageNet that year. In fact, even today, we had that record-breaking result on ImageNet speed training ourselves in the last year, we used this too. ResNet has been revolutionary.\n",
        "\n"
      ]
    },
    {
      "metadata": {
        "id": "HgiK2l3juTCY",
        "colab_type": "text"
      },
      "cell_type": "markdown",
      "source": [
        "### ResBlock Trick\n",
        "\n"
      ]
    },
    {
      "metadata": {
        "id": "UWs01-_2umQ6",
        "colab_type": "text"
      },
      "cell_type": "markdown",
      "source": [
        "https://www.youtube.com/watch?v=nWpdkZE2_cc&feature=youtu.be&t=1236"
      ]
    },
    {
      "metadata": {
        "id": "H0VM-ynLuoTs",
        "colab_type": "text"
      },
      "cell_type": "markdown",
      "source": [
        "Here's a trick if you're interested in doing some research. Anytime you find some model for anything whether it's medical image segmentation or some kind of GAN or whatever and it was written a couple of years ago, they might have forgotten to put ResBlocks in. Figure 2 is what we normally call a ResBlock. They might have forgotten to put ResBlocks in. So replace their convolutional path with a bunch of ResBlocks and you will almost always get better results faster. It's a good trick.\n",
        "\n"
      ]
    },
    {
      "metadata": {
        "id": "QCUl7R_dujfg",
        "colab_type": "text"
      },
      "cell_type": "markdown",
      "source": [
        "[Visualizing the Loss Landscape of Neural Nets](https://arxiv.org/abs/1712.09913)"
      ]
    },
    {
      "metadata": {
        "id": "yMO3Z604xCK5",
        "colab_type": "text"
      },
      "cell_type": "markdown",
      "source": [
        "https://www.youtube.com/watch?v=nWpdkZE2_cc&feature=youtu.be&t=1276"
      ]
    },
    {
      "metadata": {
        "id": "3pYnue2ExHyj",
        "colab_type": "text"
      },
      "cell_type": "markdown",
      "source": [
        "At NeurIPS, which Rachel, I, David, and Sylvain all just came back from, we saw a new presentation where they actually figured out how to visualize the loss surface of a neural net which is really cool. This is a fantastic paper and anybody who's watching this lesson 7 is at a point where they will understand the most of the important concepts in this paper. You can read this now. You won't necessarily get all of it, but I'm sure you'll get it enough to find it interesting."
      ]
    },
    {
      "metadata": {
        "id": "y9mMgI85xNnC",
        "colab_type": "text"
      },
      "cell_type": "markdown",
      "source": [
        "![alt text](https://raw.githubusercontent.com/hiromis/notes/master/lesson7/9.png)"
      ]
    },
    {
      "metadata": {
        "id": "Q5UY9D_ZxSDS",
        "colab_type": "text"
      },
      "cell_type": "markdown",
      "source": [
        "The big picture was this one. Here's what happens if you if you draw a picture where x and y here are two projections of the weight space, and z is the loss. As you move through the weight space, a 56 layer neural network without skip connections is very very bumpy. That's why this got nowhere because it just got stuck in all these hills and valleys. The exact same network with identity connections (i.e. with skip connections) has this loss landscape (on the right). So it's kind of interesting how Kaiming He recognized back in 2015 this shouldn't happen, here's a way that must fix it and it took three years before people were able to say oh this is kind of why it fixed it. It kind of reminds me of the batch norm discussion we had a couple of weeks ago that people realizing a little bit after the fact sometimes what's going on and why it helps."
      ]
    },
    {
      "metadata": {
        "id": "umt7i4KQ0_tJ",
        "colab_type": "code",
        "colab": {}
      },
      "cell_type": "code",
      "source": [
        "class ResBlock(nn.Module):\n",
        "    def __init__(self, nf):\n",
        "        super().__init__()\n",
        "        self.conv1 = conv_layer(nf,nf)\n",
        "        self.conv2 = conv_layer(nf,nf)\n",
        "        \n",
        "    def forward(self, x): return x + self.conv2(self.conv1(x))"
      ],
      "execution_count": 0,
      "outputs": []
    },
    {
      "metadata": {
        "id": "-POkc13WsBzJ",
        "colab_type": "text"
      },
      "cell_type": "markdown",
      "source": [
        "In our code, we can create a ResBlock in just the way I described. We create a nn.Module, we create two conv layers (remember, a conv_layer is Conv2d, ReLU, batch norm), so create two of those and then in forward we go `conv1(x)`, conv2 of that and then add `x`."
      ]
    },
    {
      "metadata": {
        "id": "SAWLai_60_tK",
        "colab_type": "code",
        "outputId": "e64888eb-d195-48be-a42b-902c7a92a02f",
        "colab": {
          "base_uri": "https://localhost:8080/",
          "height": 128
        }
      },
      "cell_type": "code",
      "source": [
        "help(res_block)"
      ],
      "execution_count": 0,
      "outputs": [
        {
          "output_type": "stream",
          "text": [
            "Help on function res_block in module fastai.layers:\n",
            "\n",
            "res_block(nf, dense:bool=False, norm_type:Union[fastai.layers.NormType, NoneType]=<NormType.Batch: 1>, bottle:bool=False, **conv_kwargs)\n",
            "    Resnet block of `nf` features. `conv_kwargs` are passed to `conv_layer`.\n",
            "\n"
          ],
          "name": "stdout"
        }
      ]
    },
    {
      "metadata": {
        "id": "9I86mbem0_NK",
        "colab_type": "text"
      },
      "cell_type": "markdown",
      "source": [
        "There's a res_block function already in fast.ai so you can just call res_block instead, and you just pass in something saying how many filters you want."
      ]
    },
    {
      "metadata": {
        "id": "UwSD4QUL0_tM",
        "colab_type": "code",
        "colab": {}
      },
      "cell_type": "code",
      "source": [
        "model = nn.Sequential(\n",
        "    conv2(1, 8),\n",
        "    res_block(8),\n",
        "    conv2(8, 16),\n",
        "    res_block(16),\n",
        "    conv2(16, 32),\n",
        "    res_block(32),\n",
        "    conv2(32, 16),\n",
        "    res_block(16),\n",
        "    conv2(16, 10),\n",
        "    Flatten()\n",
        ")"
      ],
      "execution_count": 0,
      "outputs": []
    },
    {
      "metadata": {
        "id": "_Ibqhii41E9Z",
        "colab_type": "text"
      },
      "cell_type": "markdown",
      "source": [
        "There's the ResBlock that I defined in our notebook, and so with that ResBlock, I've just copied the previous CNN and after every conv2 except the last one, I added a res_block so this has now got three times as many layers, so it should be able to do more compute. But it shouldn't be any harder to optimize.\n",
        "\n",
        "Let's just refactor it one more time. Since I go conv2 res_block so many times, let's just pop that into a little mini sequential model here and so I can refactor that like so:"
      ]
    },
    {
      "metadata": {
        "id": "aWoKL_V80_tN",
        "colab_type": "code",
        "colab": {}
      },
      "cell_type": "code",
      "source": [
        "def conv_and_res(ni,nf): return nn.Sequential(conv2(ni, nf), res_block(nf))"
      ],
      "execution_count": 0,
      "outputs": []
    },
    {
      "metadata": {
        "id": "lj53vOz-0_tP",
        "colab_type": "code",
        "colab": {}
      },
      "cell_type": "code",
      "source": [
        "model = nn.Sequential(\n",
        "    conv_and_res(1, 8),\n",
        "    conv_and_res(8, 16),\n",
        "    conv_and_res(16, 32),\n",
        "    conv_and_res(32, 16),\n",
        "    conv2(16, 10),\n",
        "    Flatten()\n",
        ")"
      ],
      "execution_count": 0,
      "outputs": []
    },
    {
      "metadata": {
        "id": "0PCd4Lj-1JoD",
        "colab_type": "text"
      },
      "cell_type": "markdown",
      "source": [
        "Keep refactoring your architectures if you're trying novel architectures because you'll make less mistakes. Very few people do this. Most research code you look at is clunky as all heck and people often make mistakes in that way, so don't do that. You're all coders, so use your coding skills to make life easier.\n",
        "\n"
      ]
    },
    {
      "metadata": {
        "id": "RbnQGljx1LSf",
        "colab_type": "text"
      },
      "cell_type": "markdown",
      "source": [
        "https://www.youtube.com/watch?v=nWpdkZE2_cc&feature=youtu.be&t=1487"
      ]
    },
    {
      "metadata": {
        "id": "Z2hYx2Av1YbX",
        "colab_type": "text"
      },
      "cell_type": "markdown",
      "source": [
        "Okay, so there's my ResNet-ish architecture. lr_find as usual, fit for a while, and I get 99.54%.\n",
        "\n"
      ]
    },
    {
      "metadata": {
        "id": "NECByEx60_tQ",
        "colab_type": "code",
        "colab": {}
      },
      "cell_type": "code",
      "source": [
        "learn = Learner(data, model, loss_func = nn.CrossEntropyLoss(), metrics=accuracy)"
      ],
      "execution_count": 0,
      "outputs": []
    },
    {
      "metadata": {
        "id": "HwEE80nE0_tT",
        "colab_type": "code",
        "outputId": "e268c83b-6079-402f-8af6-6b44cc1311cf",
        "colab": {
          "base_uri": "https://localhost:8080/",
          "height": 297
        }
      },
      "cell_type": "code",
      "source": [
        "learn.lr_find(end_lr=100)\n",
        "learn.recorder.plot()"
      ],
      "execution_count": 0,
      "outputs": [
        {
          "output_type": "display_data",
          "data": {
            "text/html": [
              ""
            ],
            "text/plain": [
              "<IPython.core.display.HTML object>"
            ]
          },
          "metadata": {
            "tags": []
          }
        },
        {
          "output_type": "stream",
          "text": [
            "LR Finder is complete, type {learner_name}.recorder.plot() to see the graph.\n"
          ],
          "name": "stdout"
        },
        {
          "output_type": "display_data",
          "data": {
            "image/png": "[encoded data removed]",
            "text/plain": [
              "<Figure size 432x288 with 1 Axes>"
            ]
          },
          "metadata": {
            "tags": []
          }
        }
      ]
    },
    {
      "metadata": {
        "id": "xgoIyl9d0_tU",
        "colab_type": "code",
        "outputId": "8c7bf58f-a70b-4110-bc50-cf6f0433bf9d",
        "colab": {
          "base_uri": "https://localhost:8080/",
          "height": 431
        }
      },
      "cell_type": "code",
      "source": [
        "learn.fit_one_cycle(12, max_lr=0.05)"
      ],
      "execution_count": 0,
      "outputs": [
        {
          "output_type": "display_data",
          "data": {
            "text/html": [
              "Total time: 08:12 <p><table border=\"1\" class=\"dataframe\">\n",
              "  <thead>\n",
              "    <tr style=\"text-align: left;\">\n",
              "      <th>epoch</th>\n",
              "      <th>train_loss</th>\n",
              "      <th>valid_loss</th>\n",
              "      <th>accuracy</th>\n",
              "      <th>time</th>\n",
              "    </tr>\n",
              "  </thead>\n",
              "  <tbody>\n",
              "    <tr>\n",
              "      <td>1</td>\n",
              "      <td>0.229473</td>\n",
              "      <td>0.149646</td>\n",
              "      <td>0.964400</td>\n",
              "      <td>00:40</td>\n",
              "    </tr>\n",
              "    <tr>\n",
              "      <td>2</td>\n",
              "      <td>0.123276</td>\n",
              "      <td>0.343543</td>\n",
              "      <td>0.896200</td>\n",
              "      <td>00:40</td>\n",
              "    </tr>\n",
              "    <tr>\n",
              "      <td>3</td>\n",
              "      <td>0.105138</td>\n",
              "      <td>0.088114</td>\n",
              "      <td>0.973400</td>\n",
              "      <td>00:40</td>\n",
              "    </tr>\n",
              "    <tr>\n",
              "      <td>4</td>\n",
              "      <td>0.097441</td>\n",
              "      <td>0.074930</td>\n",
              "      <td>0.975600</td>\n",
              "      <td>00:40</td>\n",
              "    </tr>\n",
              "    <tr>\n",
              "      <td>5</td>\n",
              "      <td>0.078468</td>\n",
              "      <td>0.205511</td>\n",
              "      <td>0.934900</td>\n",
              "      <td>00:41</td>\n",
              "    </tr>\n",
              "    <tr>\n",
              "      <td>6</td>\n",
              "      <td>0.065613</td>\n",
              "      <td>0.067419</td>\n",
              "      <td>0.979600</td>\n",
              "      <td>00:41</td>\n",
              "    </tr>\n",
              "    <tr>\n",
              "      <td>7</td>\n",
              "      <td>0.053392</td>\n",
              "      <td>0.039359</td>\n",
              "      <td>0.988500</td>\n",
              "      <td>00:40</td>\n",
              "    </tr>\n",
              "    <tr>\n",
              "      <td>8</td>\n",
              "      <td>0.048241</td>\n",
              "      <td>0.030888</td>\n",
              "      <td>0.991100</td>\n",
              "      <td>00:41</td>\n",
              "    </tr>\n",
              "    <tr>\n",
              "      <td>9</td>\n",
              "      <td>0.035665</td>\n",
              "      <td>0.023002</td>\n",
              "      <td>0.993200</td>\n",
              "      <td>00:41</td>\n",
              "    </tr>\n",
              "    <tr>\n",
              "      <td>10</td>\n",
              "      <td>0.027396</td>\n",
              "      <td>0.021608</td>\n",
              "      <td>0.992400</td>\n",
              "      <td>00:41</td>\n",
              "    </tr>\n",
              "    <tr>\n",
              "      <td>11</td>\n",
              "      <td>0.024642</td>\n",
              "      <td>0.017063</td>\n",
              "      <td>0.994400</td>\n",
              "      <td>00:41</td>\n",
              "    </tr>\n",
              "    <tr>\n",
              "      <td>12</td>\n",
              "      <td>0.019305</td>\n",
              "      <td>0.016596</td>\n",
              "      <td>0.995000</td>\n",
              "      <td>00:41</td>\n",
              "    </tr>\n",
              "  </tbody>\n",
              "</table>"
            ],
            "text/plain": [
              "<IPython.core.display.HTML object>"
            ]
          },
          "metadata": {
            "tags": []
          }
        }
      ]
    },
    {
      "metadata": {
        "id": "B2FTVQNR1bod",
        "colab_type": "text"
      },
      "cell_type": "markdown",
      "source": [
        "That's interesting because we've trained this literally from scratch with an architecture we built from scratch, I didn't look out this architecture anywhere. It's just the first thing that came to mind. But in terms of where that puts us, 0.45% error is around about the state of the art for this data set as of three or four years ago."
      ]
    },
    {
      "metadata": {
        "id": "7ml8R5pJ0_tW",
        "colab_type": "code",
        "outputId": "8f3fcfa7-eafd-4a66-e6bd-32677466f75f",
        "colab": {
          "base_uri": "https://localhost:8080/",
          "height": 1763
        }
      },
      "cell_type": "code",
      "source": [
        "print(learn.summary())"
      ],
      "execution_count": 0,
      "outputs": [
        {
          "output_type": "stream",
          "text": [
            "======================================================================\n",
            "Layer (type)         Output Shape         Param #    Trainable \n",
            "======================================================================\n",
            "Conv2d               [1, 8, 14, 14]       72         True      \n",
            "______________________________________________________________________\n",
            "ReLU                 [1, 8, 14, 14]       0          False     \n",
            "______________________________________________________________________\n",
            "BatchNorm2d          [1, 8, 14, 14]       16         True      \n",
            "______________________________________________________________________\n",
            "Conv2d               [1, 8, 14, 14]       576        True      \n",
            "______________________________________________________________________\n",
            "ReLU                 [1, 8, 14, 14]       0          False     \n",
            "______________________________________________________________________\n",
            "BatchNorm2d          [1, 8, 14, 14]       16         True      \n",
            "______________________________________________________________________\n",
            "Conv2d               [1, 8, 14, 14]       576        True      \n",
            "______________________________________________________________________\n",
            "ReLU                 [1, 8, 14, 14]       0          False     \n",
            "______________________________________________________________________\n",
            "BatchNorm2d          [1, 8, 14, 14]       16         True      \n",
            "______________________________________________________________________\n",
            "MergeLayer           [1, 8, 14, 14]       0          False     \n",
            "______________________________________________________________________\n",
            "Conv2d               [1, 16, 7, 7]        1,152      True      \n",
            "______________________________________________________________________\n",
            "ReLU                 [1, 16, 7, 7]        0          False     \n",
            "______________________________________________________________________\n",
            "BatchNorm2d          [1, 16, 7, 7]        32         True      \n",
            "______________________________________________________________________\n",
            "Conv2d               [1, 16, 7, 7]        2,304      True      \n",
            "______________________________________________________________________\n",
            "ReLU                 [1, 16, 7, 7]        0          False     \n",
            "______________________________________________________________________\n",
            "BatchNorm2d          [1, 16, 7, 7]        32         True      \n",
            "______________________________________________________________________\n",
            "Conv2d               [1, 16, 7, 7]        2,304      True      \n",
            "______________________________________________________________________\n",
            "ReLU                 [1, 16, 7, 7]        0          False     \n",
            "______________________________________________________________________\n",
            "BatchNorm2d          [1, 16, 7, 7]        32         True      \n",
            "______________________________________________________________________\n",
            "MergeLayer           [1, 16, 7, 7]        0          False     \n",
            "______________________________________________________________________\n",
            "Conv2d               [1, 32, 4, 4]        4,608      True      \n",
            "______________________________________________________________________\n",
            "ReLU                 [1, 32, 4, 4]        0          False     \n",
            "______________________________________________________________________\n",
            "BatchNorm2d          [1, 32, 4, 4]        64         True      \n",
            "______________________________________________________________________\n",
            "Conv2d               [1, 32, 4, 4]        9,216      True      \n",
            "______________________________________________________________________\n",
            "ReLU                 [1, 32, 4, 4]        0          False     \n",
            "______________________________________________________________________\n",
            "BatchNorm2d          [1, 32, 4, 4]        64         True      \n",
            "______________________________________________________________________\n",
            "Conv2d               [1, 32, 4, 4]        9,216      True      \n",
            "______________________________________________________________________\n",
            "ReLU                 [1, 32, 4, 4]        0          False     \n",
            "______________________________________________________________________\n",
            "BatchNorm2d          [1, 32, 4, 4]        64         True      \n",
            "______________________________________________________________________\n",
            "MergeLayer           [1, 32, 4, 4]        0          False     \n",
            "______________________________________________________________________\n",
            "Conv2d               [1, 16, 2, 2]        4,608      True      \n",
            "______________________________________________________________________\n",
            "ReLU                 [1, 16, 2, 2]        0          False     \n",
            "______________________________________________________________________\n",
            "BatchNorm2d          [1, 16, 2, 2]        32         True      \n",
            "______________________________________________________________________\n",
            "Conv2d               [1, 16, 2, 2]        2,304      True      \n",
            "______________________________________________________________________\n",
            "ReLU                 [1, 16, 2, 2]        0          False     \n",
            "______________________________________________________________________\n",
            "BatchNorm2d          [1, 16, 2, 2]        32         True      \n",
            "______________________________________________________________________\n",
            "Conv2d               [1, 16, 2, 2]        2,304      True      \n",
            "______________________________________________________________________\n",
            "ReLU                 [1, 16, 2, 2]        0          False     \n",
            "______________________________________________________________________\n",
            "BatchNorm2d          [1, 16, 2, 2]        32         True      \n",
            "______________________________________________________________________\n",
            "MergeLayer           [1, 16, 2, 2]        0          False     \n",
            "______________________________________________________________________\n",
            "Conv2d               [1, 10, 1, 1]        1,440      True      \n",
            "______________________________________________________________________\n",
            "ReLU                 [1, 10, 1, 1]        0          False     \n",
            "______________________________________________________________________\n",
            "BatchNorm2d          [1, 10, 1, 1]        20         True      \n",
            "______________________________________________________________________\n",
            "Flatten              [1, 10]              0          False     \n",
            "______________________________________________________________________\n",
            "\n",
            "Total params: 41,132\n",
            "Total trainable params: 41,132\n",
            "Total non-trainable params: 0\n",
            "\n"
          ],
          "name": "stdout"
        }
      ]
    },
    {
      "metadata": {
        "id": "H2ttweS90_tZ",
        "colab_type": "text"
      },
      "cell_type": "markdown",
      "source": [
        "## fin"
      ]
    },
    {
      "metadata": {
        "id": "mZvUx76-0_tZ",
        "colab_type": "code",
        "colab": {}
      },
      "cell_type": "code",
      "source": [
        ""
      ],
      "execution_count": 0,
      "outputs": []
    }
  ]
}